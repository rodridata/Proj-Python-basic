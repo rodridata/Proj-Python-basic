{
 "cells": [
  {
   "cell_type": "code",
   "execution_count": null,
   "id": "00b6af42-eab9-431c-95bb-7491434f8fa0",
   "metadata": {},
   "outputs": [
    {
     "name": "stdout",
     "output_type": "stream",
     "text": [
      "Jugaremos a una adivinanza de un número del 1 al 1000.\n",
      "1. Jugar\n",
      "2. Mostrar resumen de partidas.\n",
      "3. Mostrar gráficas de partidas.\n",
      "4. Salir\n"
     ]
    },
    {
     "name": "stdin",
     "output_type": "stream",
     "text": [
      "Elige una de las opciones previas: 2\n"
     ]
    },
    {
     "name": "stdout",
     "output_type": "stream",
     "text": [
      "Archivo Excel encontrado y cargado correctamente.\n",
      "RESUMEN DE PARTIDAS                      \n",
      "----------------------                      \n",
      "            VICTORIAS   DERROTAS\n",
      "FÁCIL               0          0\n",
      "MEDIO               0          0\n",
      "DIFÍCIL             0          0\n",
      "1. Jugar\n",
      "2. Mostrar resumen de partidas.\n",
      "3. Mostrar gráficas de partidas.\n",
      "4. Salir\n"
     ]
    },
    {
     "name": "stdin",
     "output_type": "stream",
     "text": [
      "Elige una de las opciones previas: 1\n"
     ]
    },
    {
     "name": "stdout",
     "output_type": "stream",
     "text": [
      "Elige una dificultad de las siguientes:\n",
      "1. Fácil.(15 intentos)\n",
      "2. Intermedia.(10 intentos)\n",
      "3. Difícil.(5 intentos)\n"
     ]
    },
    {
     "name": "stdin",
     "output_type": "stream",
     "text": [
      "Elige una dificultad: 2\n",
      "Elige un número del 1 al 1000 (tienes 10 oportunidades): 333\n"
     ]
    },
    {
     "name": "stdout",
     "output_type": "stream",
     "text": [
      "El número es mayor.\n"
     ]
    },
    {
     "name": "stdin",
     "output_type": "stream",
     "text": [
      "Intenta de nuevo (tienes 9 oportunidades): 666\n"
     ]
    },
    {
     "name": "stdout",
     "output_type": "stream",
     "text": [
      "El número es mayor.\n"
     ]
    },
    {
     "name": "stdin",
     "output_type": "stream",
     "text": [
      "Intenta de nuevo (tienes 8 oportunidades): 850\n"
     ]
    },
    {
     "name": "stdout",
     "output_type": "stream",
     "text": [
      "El número es menor.\n"
     ]
    },
    {
     "name": "stdin",
     "output_type": "stream",
     "text": [
      "Intenta de nuevo (tienes 7 oportunidades): 730\n"
     ]
    },
    {
     "name": "stdout",
     "output_type": "stream",
     "text": [
      "El número es mayor.\n"
     ]
    },
    {
     "name": "stdin",
     "output_type": "stream",
     "text": [
      "Intenta de nuevo (tienes 6 oportunidades): 810\n"
     ]
    },
    {
     "name": "stdout",
     "output_type": "stream",
     "text": [
      "El número es menor.\n"
     ]
    },
    {
     "name": "stdin",
     "output_type": "stream",
     "text": [
      "Intenta de nuevo (tienes 5 oportunidades): 775\n"
     ]
    },
    {
     "name": "stdout",
     "output_type": "stream",
     "text": [
      "El número es mayor.\n"
     ]
    },
    {
     "name": "stdin",
     "output_type": "stream",
     "text": [
      "Intenta de nuevo (tienes 4 oportunidades): 790\n"
     ]
    },
    {
     "name": "stdout",
     "output_type": "stream",
     "text": [
      "El número es mayor.\n"
     ]
    },
    {
     "name": "stdin",
     "output_type": "stream",
     "text": [
      "Intenta de nuevo (tienes 3 oportunidades): 798\n"
     ]
    },
    {
     "name": "stdout",
     "output_type": "stream",
     "text": [
      "El número es menor.\n"
     ]
    },
    {
     "name": "stdin",
     "output_type": "stream",
     "text": [
      "Intenta de nuevo (tienes 2 oportunidades): 795\n"
     ]
    },
    {
     "name": "stdout",
     "output_type": "stream",
     "text": [
      "El número es menor.\n"
     ]
    },
    {
     "name": "stdin",
     "output_type": "stream",
     "text": [
      "Intenta de nuevo (tienes 1 oportunidades): 793\n"
     ]
    },
    {
     "name": "stdout",
     "output_type": "stream",
     "text": [
      "Perdiste, buen intento.\n",
      "1. Jugar\n",
      "2. Mostrar resumen de partidas.\n",
      "3. Mostrar gráficas de partidas.\n",
      "4. Salir\n"
     ]
    },
    {
     "name": "stdin",
     "output_type": "stream",
     "text": [
      "Elige una de las opciones previas: 1\n"
     ]
    },
    {
     "name": "stdout",
     "output_type": "stream",
     "text": [
      "Elige una dificultad de las siguientes:\n",
      "1. Fácil.(15 intentos)\n",
      "2. Intermedia.(10 intentos)\n",
      "3. Difícil.(5 intentos)\n"
     ]
    },
    {
     "name": "stdin",
     "output_type": "stream",
     "text": [
      "Elige una dificultad: 2\n",
      "Elige un número del 1 al 1000 (tienes 10 oportunidades): 500\n"
     ]
    },
    {
     "name": "stdout",
     "output_type": "stream",
     "text": [
      "El número es menor.\n"
     ]
    },
    {
     "name": "stdin",
     "output_type": "stream",
     "text": [
      "Intenta de nuevo (tienes 9 oportunidades): 352\n"
     ]
    },
    {
     "name": "stdout",
     "output_type": "stream",
     "text": [
      "El número es menor.\n"
     ]
    },
    {
     "name": "stdin",
     "output_type": "stream",
     "text": [
      "Intenta de nuevo (tienes 8 oportunidades): 120\n"
     ]
    },
    {
     "name": "stdout",
     "output_type": "stream",
     "text": [
      "El número es mayor.\n"
     ]
    },
    {
     "name": "stdin",
     "output_type": "stream",
     "text": [
      "Intenta de nuevo (tienes 7 oportunidades): 260\n"
     ]
    },
    {
     "name": "stdout",
     "output_type": "stream",
     "text": [
      "El número es mayor.\n"
     ]
    },
    {
     "name": "stdin",
     "output_type": "stream",
     "text": [
      "Intenta de nuevo (tienes 6 oportunidades): 302\n"
     ]
    },
    {
     "name": "stdout",
     "output_type": "stream",
     "text": [
      "El número es mayor.\n"
     ]
    },
    {
     "name": "stdin",
     "output_type": "stream",
     "text": [
      "Intenta de nuevo (tienes 5 oportunidades): 324\n"
     ]
    },
    {
     "name": "stdout",
     "output_type": "stream",
     "text": [
      "El número es mayor.\n"
     ]
    },
    {
     "name": "stdin",
     "output_type": "stream",
     "text": [
      "Intenta de nuevo (tienes 4 oportunidades): 341\n"
     ]
    },
    {
     "name": "stdout",
     "output_type": "stream",
     "text": [
      "El número es menor.\n"
     ]
    },
    {
     "name": "stdin",
     "output_type": "stream",
     "text": [
      "Intenta de nuevo (tienes 3 oportunidades): 335\n"
     ]
    },
    {
     "name": "stdout",
     "output_type": "stream",
     "text": [
      "El número es mayor.\n"
     ]
    },
    {
     "name": "stdin",
     "output_type": "stream",
     "text": [
      "Intenta de nuevo (tienes 2 oportunidades): 337\n"
     ]
    },
    {
     "name": "stdout",
     "output_type": "stream",
     "text": [
      "El número es mayor.\n"
     ]
    },
    {
     "name": "stdin",
     "output_type": "stream",
     "text": [
      "Intenta de nuevo (tienes 1 oportunidades): 339\n"
     ]
    },
    {
     "name": "stdout",
     "output_type": "stream",
     "text": [
      "Perdiste, buen intento.\n",
      "1. Jugar\n",
      "2. Mostrar resumen de partidas.\n",
      "3. Mostrar gráficas de partidas.\n",
      "4. Salir\n"
     ]
    },
    {
     "name": "stdin",
     "output_type": "stream",
     "text": [
      "Elige una de las opciones previas: 1\n"
     ]
    },
    {
     "name": "stdout",
     "output_type": "stream",
     "text": [
      "Elige una dificultad de las siguientes:\n",
      "1. Fácil.(15 intentos)\n",
      "2. Intermedia.(10 intentos)\n",
      "3. Difícil.(5 intentos)\n"
     ]
    },
    {
     "name": "stdin",
     "output_type": "stream",
     "text": [
      "Elige una dificultad: 2\n",
      "Elige un número del 1 al 1000 (tienes 10 oportunidades): 2\n"
     ]
    },
    {
     "name": "stdout",
     "output_type": "stream",
     "text": [
      "El número es mayor.\n"
     ]
    },
    {
     "name": "stdin",
     "output_type": "stream",
     "text": [
      "Intenta de nuevo (tienes 9 oportunidades): 333\n"
     ]
    },
    {
     "name": "stdout",
     "output_type": "stream",
     "text": [
      "El número es mayor.\n"
     ]
    },
    {
     "name": "stdin",
     "output_type": "stream",
     "text": [
      "Intenta de nuevo (tienes 8 oportunidades): 666\n"
     ]
    },
    {
     "name": "stdout",
     "output_type": "stream",
     "text": [
      "El número es mayor.\n"
     ]
    },
    {
     "name": "stdin",
     "output_type": "stream",
     "text": [
      "Intenta de nuevo (tienes 7 oportunidades): 810\n"
     ]
    },
    {
     "name": "stdout",
     "output_type": "stream",
     "text": [
      "El número es mayor.\n"
     ]
    },
    {
     "name": "stdin",
     "output_type": "stream",
     "text": [
      "Intenta de nuevo (tienes 6 oportunidades): 920\n"
     ]
    },
    {
     "name": "stdout",
     "output_type": "stream",
     "text": [
      "El número es mayor.\n"
     ]
    },
    {
     "name": "stdin",
     "output_type": "stream",
     "text": [
      "Intenta de nuevo (tienes 5 oportunidades): 956\n"
     ]
    },
    {
     "name": "stdout",
     "output_type": "stream",
     "text": [
      "El número es mayor.\n"
     ]
    },
    {
     "name": "stdin",
     "output_type": "stream",
     "text": [
      "Intenta de nuevo (tienes 4 oportunidades): 980\n"
     ]
    },
    {
     "name": "stdout",
     "output_type": "stream",
     "text": [
      "El número es menor.\n"
     ]
    },
    {
     "name": "stdin",
     "output_type": "stream",
     "text": [
      "Intenta de nuevo (tienes 3 oportunidades): 965\n"
     ]
    },
    {
     "name": "stdout",
     "output_type": "stream",
     "text": [
      "El número es menor.\n"
     ]
    },
    {
     "name": "stdin",
     "output_type": "stream",
     "text": [
      "Intenta de nuevo (tienes 2 oportunidades): 963\n"
     ]
    },
    {
     "name": "stdout",
     "output_type": "stream",
     "text": [
      "El número es menor.\n"
     ]
    },
    {
     "name": "stdin",
     "output_type": "stream",
     "text": [
      "Intenta de nuevo (tienes 1 oportunidades): 961\n"
     ]
    },
    {
     "name": "stdout",
     "output_type": "stream",
     "text": [
      "Perdiste, buen intento.\n",
      "1. Jugar\n",
      "2. Mostrar resumen de partidas.\n",
      "3. Mostrar gráficas de partidas.\n",
      "4. Salir\n"
     ]
    },
    {
     "name": "stdin",
     "output_type": "stream",
     "text": [
      "Elige una de las opciones previas: 1\n"
     ]
    },
    {
     "name": "stdout",
     "output_type": "stream",
     "text": [
      "Elige una dificultad de las siguientes:\n",
      "1. Fácil.(15 intentos)\n",
      "2. Intermedia.(10 intentos)\n",
      "3. Difícil.(5 intentos)\n"
     ]
    },
    {
     "name": "stdin",
     "output_type": "stream",
     "text": [
      "Elige una dificultad: 2\n",
      "Elige un número del 1 al 1000 (tienes 10 oportunidades): 405\n"
     ]
    },
    {
     "name": "stdout",
     "output_type": "stream",
     "text": [
      "El número es menor.\n"
     ]
    },
    {
     "name": "stdin",
     "output_type": "stream",
     "text": [
      "Intenta de nuevo (tienes 9 oportunidades): 311\n"
     ]
    },
    {
     "name": "stdout",
     "output_type": "stream",
     "text": [
      "El número es menor.\n"
     ]
    },
    {
     "name": "stdin",
     "output_type": "stream",
     "text": [
      "Intenta de nuevo (tienes 8 oportunidades): 182\n"
     ]
    },
    {
     "name": "stdout",
     "output_type": "stream",
     "text": [
      "El número es mayor.\n"
     ]
    },
    {
     "name": "stdin",
     "output_type": "stream",
     "text": [
      "Intenta de nuevo (tienes 7 oportunidades): 235\n"
     ]
    },
    {
     "name": "stdout",
     "output_type": "stream",
     "text": [
      "El número es mayor.\n"
     ]
    },
    {
     "name": "stdin",
     "output_type": "stream",
     "text": [
      "Intenta de nuevo (tienes 6 oportunidades): 280\n"
     ]
    },
    {
     "name": "stdout",
     "output_type": "stream",
     "text": [
      "El número es mayor.\n"
     ]
    },
    {
     "name": "stdin",
     "output_type": "stream",
     "text": [
      "Intenta de nuevo (tienes 5 oportunidades): 294\n"
     ]
    },
    {
     "name": "stdout",
     "output_type": "stream",
     "text": [
      "El número es mayor.\n"
     ]
    },
    {
     "name": "stdin",
     "output_type": "stream",
     "text": [
      "Intenta de nuevo (tienes 4 oportunidades): 297\n"
     ]
    },
    {
     "name": "stdout",
     "output_type": "stream",
     "text": [
      "El número es mayor.\n"
     ]
    },
    {
     "name": "stdin",
     "output_type": "stream",
     "text": [
      "Intenta de nuevo (tienes 3 oportunidades): 304\n"
     ]
    },
    {
     "name": "stdout",
     "output_type": "stream",
     "text": [
      "El número es mayor.\n"
     ]
    },
    {
     "name": "stdin",
     "output_type": "stream",
     "text": [
      "Intenta de nuevo (tienes 2 oportunidades): 307\n"
     ]
    },
    {
     "name": "stdout",
     "output_type": "stream",
     "text": [
      "El número es menor.\n"
     ]
    }
   ],
   "source": [
    "#Importamos las librerías que usaremos.\n",
    "import openpyxl\n",
    "from openpyxl import Workbook, load_workbook\n",
    "from openpyxl.styles import Alignment, Font\n",
    "import os\n",
    "import random as rand\n",
    "import pandas as pd\n",
    "import matplotlib.pyplot as plt\n",
    "\n",
    "#definimos las variables de suma de resultados de las partidas clasificadas por dificultad.\n",
    "easy_win=0\n",
    "easy_lose=0\n",
    "medium_win=0\n",
    "medium_lose=0\n",
    "dif_win=0\n",
    "dif_lose=0\n",
    "\n",
    "#Instrucción inicial\n",
    "print(\"Jugaremos a una adivinanza de un número del 1 al 1000.\")\n",
    "\n",
    "\n",
    "#Definiremos las funciones, iniciando por el menú.\n",
    "def menu():\n",
    "    print(\"1. Jugar\")\n",
    "    print(\"2. Mostrar resumen de partidas.\")\n",
    "    print(\"3. Mostrar gráficas de partidas.\")\n",
    "    print(\"4. Salir\")\n",
    "    return int(input(\"Elige una de las opciones previas:\"))\n",
    "\n",
    "#Definimos la función del juego.\n",
    "def play():\n",
    "    global a, easy_win, easy_lose, medium_win, medium_lose, dif_win, dif_lose\n",
    "    print(\"Elige una dificultad de las siguientes:\")\n",
    "    print(\"1. Fácil.(15 intentos)\")\n",
    "    print(\"2. Intermedia.(10 intentos)\")\n",
    "    print(\"3. Difícil.(5 intentos)\")\n",
    "\n",
    "#Definimos las variables de los intentos por dificultad.\n",
    "    facil=14\n",
    "    intermedio=9\n",
    "    dificil=4\n",
    "\n",
    "#Pedimos que den la dificultad.\n",
    "    op = int(input(\"Elige una dificultad:\"))\n",
    "\n",
    "#Usamos try y except ValueError para que el juego no de errores si teclean algo mal.\n",
    "    try:\n",
    "        if op==1:\n",
    "#Usamos variables. Una para victoria o derrota, otra para el número aleatorio, y otra para el número que eliges.\n",
    "            a=0 \n",
    "            x=rand.randint(1,1001)\n",
    "            n=int(input(f\"Elige un número del 1 al 1000 (tienes {facil+1} oportunidades):\"))\n",
    "\n",
    "#Usamos un for para el conteo de intentos y un if dentro para decir si es menor o mayor. Si gana se rompe con break y la a se cambia para sumar.\n",
    "#Será lo mismo en cada dificultad.\n",
    "            for i in range(facil):\n",
    "                if x<n:\n",
    "                    print(\"El número es menor.\")\n",
    "                    n=int(input(F\"Intenta de nuevo (tienes {facil-i} oportunidades):\"))\n",
    "                elif n<x:\n",
    "                    print(\"El número es mayor.\")\n",
    "                    n=int(input(F\"Intenta de nuevo (tienes {facil-i} oportunidades):\"))\n",
    "                else:\n",
    "                    a=1\n",
    "                    easy_win+=1\n",
    "                    print(\"¡¡Felicidades, ganaste!!\") \n",
    "                    break\n",
    "            if a==0:\n",
    "                easy_lose+=1\n",
    "                print(\"Perdiste, buen intento.\")\n",
    "        elif op==2:\n",
    "            a=0 \n",
    "            x=rand.randint(1,1001)\n",
    "            n=int(input(f\"Elige un número del 1 al 1000 (tienes {intermedio+1} oportunidades):\"))\n",
    "            for i in range(intermedio):\n",
    "                if x<n:\n",
    "                    print(\"El número es menor.\")\n",
    "                elif n<x:\n",
    "                    print(\"El número es mayor.\")\n",
    "                else:\n",
    "                    a=1\n",
    "                    medium_win+=1\n",
    "                    print(\"¡¡Felicidades, ganaste!!\") \n",
    "                    break\n",
    "                n=int(input(F\"Intenta de nuevo (tienes {intermedio-i} oportunidades):\"))\n",
    "            if a==0:\n",
    "                medium_lose+=1\n",
    "                print(\"Perdiste, buen intento.\")\n",
    "\n",
    "    \n",
    "            \n",
    "        elif op==3:\n",
    "            a=0 \n",
    "            x=rand.randint(1,1001)\n",
    "            n=int(input(f\"Elige un número del 1 al 1000 (tienes {dificil+1} oportunidades):\"))\n",
    "            for i in range(dificil):\n",
    "                if x<n:\n",
    "                    print(\"El número es menor.\")\n",
    "                    n=int(input(F\"Intenta de nuevo (tienes {dificil-i} oportunidades):\"))\n",
    "                elif n<x:\n",
    "                    print(\"El número es mayor.\")\n",
    "                    n=int(input(F\"Intenta de nuevo (tienes {dificil-i} oportunidades):\"))\n",
    "                else:\n",
    "                    a=1\n",
    "                    dif_win+=1\n",
    "                    print(\"¡¡Felicidades, ganaste!!\") \n",
    "                    break\n",
    "            if a==0:\n",
    "                dif_lose+=1\n",
    "                print(\"Perdiste, buen intento.\")\n",
    "    except ValueError:\n",
    "        print(\"Se reinicia el juego porque diste una letra, no número.\")\n",
    "\n",
    "#Definimos la función del resumen de partidas. Usamos el excel para asignar valores o textos a celdas para hacer la tabla.\n",
    "#Al inicio importamos funciones que nos permitan dar formatos.\n",
    "def show_resume():\n",
    "\n",
    "    file_path = \"../ex_py.xlsx\"\n",
    "    \n",
    "    if not os.path.exists(file_path):\n",
    "        docEx = Workbook()\n",
    "        docEx.save(file_path)\n",
    "        print(\"Archivo Excel creado porque no existía.\")\n",
    "\n",
    "    # Cargar el archivo existente\n",
    "    try:\n",
    "        docEx = load_workbook(file_path)\n",
    "        print(\"Archivo Excel encontrado y cargado correctamente.\")\n",
    "    except Exception as e:\n",
    "        print(f\"Error al cargar el archivo Excel: {e}\")\n",
    "        return\n",
    "        \n",
    "#renombramos el file para trabajar más  sencillo.\n",
    "    hoja = docEx.active  \n",
    "    hoja.title = \"Hoja 1\"\n",
    "\n",
    "#Comenzamos a dar formato.\n",
    "    hoja[\"A1\"] = \"RESUMEN DE PARTIDAS\"\n",
    "    hoja[\"A1\"].font = Font(bold=True)\n",
    "    hoja[\"A1\"].alignment = Alignment(horizontal=\"center\")\n",
    "    hoja.merge_cells(\"A1:C1\")  # Merge cells for the title\n",
    "\n",
    "# Agregamos la línea de separación.\n",
    "    hoja[\"A2\"] = \"----------------------\"\n",
    "    hoja.merge_cells(\"A2:C2\")  # Merge cells for the separator line\n",
    "    hoja[\"A2\"].alignment = Alignment(horizontal=\"center\")\n",
    "\n",
    "    hoja[\"B3\"] = \"VICTORIAS\"\n",
    "    hoja[\"C3\"] = \"DERROTAS\"\n",
    "    hoja[\"B3\"].alignment = Alignment(horizontal=\"center\")\n",
    "    hoja[\"C3\"].alignment = Alignment(horizontal=\"center\")\n",
    "\n",
    "# Definimos data de cada celda\n",
    "    hoja[\"A4\"] = \"FÁCIL\"\n",
    "    hoja[\"A5\"] = \"MEDIO\"\n",
    "    hoja[\"A6\"] = \"DIFÍCIL\"\n",
    "    hoja[\"B4\"] = easy_win\n",
    "    hoja[\"C4\"] = easy_lose\n",
    "    hoja[\"B5\"] = medium_win\n",
    "    hoja[\"C5\"] = medium_lose\n",
    "    hoja[\"B6\"] = dif_win\n",
    "    hoja[\"C6\"] = dif_lose\n",
    "\n",
    "# Guardamos el archivo para mantener los cambios.\n",
    "    docEx.save(\"../ex_py.xlxs\")\n",
    "        \n",
    "\n",
    "# Mostramos la data con iter_rows\n",
    "    for row in hoja.iter_rows(min_row=1, max_row=6, min_col=1, max_col=3, values_only=True):\n",
    "        print(\"{:<10} {:>10} {:>10}\".format(*[cell if cell is not None else \"\" for cell in row]))\n",
    "\n",
    "#Definimos las gráficas de barras\n",
    "def show_bars():\n",
    "    \n",
    "    # Gráfica para victorias y derrotas por dificultad. Creamos las 3 tablas y como separarlas.\n",
    "    fig, axes = plt.subplots(1, 3, figsize=(15, 5))\n",
    "\n",
    "#Damos formato a cada tabla y los textos de visualización.\n",
    "    # Fácil\n",
    "    axes[0].bar([\"Victorias (fácil)\", \"Derrotas (fácil)\"], [easy_win, easy_lose])\n",
    "    axes[0].set_title(\"Resultados Fácil\")\n",
    "    axes[0].set_xlabel(\"Resultados\")\n",
    "    axes[0].set_ylabel(\"Partidas\")\n",
    "\n",
    "    # Intermedia\n",
    "    axes[1].bar([\"Victorias (media)\", \"Derrotas (media)\"], [medium_win, medium_lose])\n",
    "    axes[1].set_title(\"Resultados Intermedia\")\n",
    "    axes[1].set_xlabel(\"Resultados\")\n",
    "    axes[1].set_ylabel(\"Partidas\")\n",
    "\n",
    "    # Difícil\n",
    "    axes[2].bar([\"Victorias (difícil)\", \"Derrotas (difícil)\"], [dif_win, dif_lose])\n",
    "    axes[2].set_title(\"Resultados Difícil\")\n",
    "    axes[2].set_xlabel(\"Resultados\")\n",
    "    axes[2].set_ylabel(\"Partidas\")\n",
    "    \n",
    "    plt.tight_layout()\n",
    "    plt.show()\n",
    "\n",
    "#Usamos while para que siempre regrese al menú inicial a menos que deseen salir. Try y except son para que no puedan haber errores.\n",
    "while True:\n",
    "    try:\n",
    "        opt=menu()\n",
    "        if opt==1:\n",
    "            play()\n",
    "        if opt==2:\n",
    "            show_resume()\n",
    "        if opt==3:\n",
    "            show_bars()\n",
    "        if opt==4:\n",
    "\n",
    "            wins=easy_win+medium_win+dif_win\n",
    "            lose=easy_lose+medium_lose+dif_lose\n",
    "        \n",
    "            print(f\"Ganaste {wins} veces y perdiste {lose} veces.\")\n",
    "            print(\"Gracias por jugar\")\n",
    "            break\n",
    "            \n",
    "    except ValueError:\n",
    "        print(\"Pon un número del 1 al 4:\")\n",
    "        "
   ]
  }
 ],
 "metadata": {
  "kernelspec": {
   "display_name": "Python 3 (ipykernel)",
   "language": "python",
   "name": "python3"
  },
  "language_info": {
   "codemirror_mode": {
    "name": "ipython",
    "version": 3
   },
   "file_extension": ".py",
   "mimetype": "text/x-python",
   "name": "python",
   "nbconvert_exporter": "python",
   "pygments_lexer": "ipython3",
   "version": "3.12.4"
  }
 },
 "nbformat": 4,
 "nbformat_minor": 5
}
